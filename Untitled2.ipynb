{
  "nbformat": 4,
  "nbformat_minor": 0,
  "metadata": {
    "colab": {
      "provenance": [],
      "authorship_tag": "ABX9TyMnZzM1J1wwdU7c27GmXo7y",
      "include_colab_link": true
    },
    "kernelspec": {
      "name": "python3",
      "display_name": "Python 3"
    },
    "language_info": {
      "name": "python"
    }
  },
  "cells": [
    {
      "cell_type": "markdown",
      "metadata": {
        "id": "view-in-github",
        "colab_type": "text"
      },
      "source": [
        "<a href=\"https://colab.research.google.com/github/hwaraha/Chapter-8/blob/main/Untitled2.ipynb\" target=\"_parent\"><img src=\"https://colab.research.google.com/assets/colab-badge.svg\" alt=\"Open In Colab\"/></a>"
      ]
    },
    {
      "cell_type": "code",
      "execution_count": 1,
      "metadata": {
        "colab": {
          "base_uri": "https://localhost:8080/"
        },
        "id": "K_oYibX3UgCi",
        "outputId": "44dd0c5e-0a34-4a1c-92ff-71d106226d86"
      },
      "outputs": [
        {
          "output_type": "stream",
          "name": "stdout",
          "text": [
            "File can be read only by owner.\n"
          ]
        }
      ],
      "source": [
        "# 1.\n",
        "f = open('greet.txt', 'w')\n",
        "f.write('Hi, everyone.\\nWelcome to Python')\n",
        "f.close()\n",
        "import os, sys, stat\n",
        "\n",
        "os.chmod('greet.txt', stat.S_IREAD)\n",
        "print(\"File can be read only by owner.\")"
      ]
    },
    {
      "cell_type": "code",
      "source": [
        "# 2.\n",
        "f = open('number1to10.txt', 'w')\n",
        "f.write('1\\n2\\n3\\n4\\n5\\n6\\n7\\n8\\n9\\n10')\n",
        "f.close()\n",
        "f = open('number1to10.txt', 'r')\n",
        "s = f.read()\n",
        "print(s)\n",
        "f.close()"
      ],
      "metadata": {
        "colab": {
          "base_uri": "https://localhost:8080/"
        },
        "id": "IXfcNWV-UliI",
        "outputId": "be13d2bb-8fa7-43f1-8ba4-601362de037a"
      },
      "execution_count": 2,
      "outputs": [
        {
          "output_type": "stream",
          "name": "stdout",
          "text": [
            "1\n",
            "2\n",
            "3\n",
            "4\n",
            "5\n",
            "6\n",
            "7\n",
            "8\n",
            "9\n",
            "10\n"
          ]
        }
      ]
    },
    {
      "cell_type": "code",
      "source": [
        "# 3.\n",
        "f = open('my_hello.txt', 'w')\n",
        "f.write(\"Hello Python\")\n",
        "f.close()\n",
        "try:\n",
        "    import os, sys, stat\n",
        "\n",
        "    os.chmod('greet.txt', stat.S_IREAD)\n",
        "    print(\"File can be read only by owner.\")\n",
        "\n",
        "except:\n",
        "    os.chmod(\"/Geeks/gfg.txt\", stat.S_IROTH)\n",
        "    print(\"File access changed, can be read by others now.\")\n",
        "\n",
        "\n",
        "\n",
        "\n",
        "f = open('numberby10.txt', 'w')\n",
        "f.write('10\\n20\\n30\\n40\\n50\\n60\\n70\\n80\\n90\\n100')\n",
        "f.close()\n",
        "f = open('numberby10.txt', 'r')\n",
        "s = f.read()\n",
        "print(s)\n",
        "f.close()\n",
        "\n",
        "data = data2 = \" : \"\n",
        "\n",
        "with open('number1to10.txt') as fp:\n",
        "    data = fp.read()\n",
        "\n",
        "with open('numberby10.txt') as fp:\n",
        "    data2 = fp.read()\n",
        "\n",
        "\n",
        "data += \" : \"\n",
        "data += data2\n",
        "\n",
        "with open('merge.txt', 'w') as fp:\n",
        "    fp.write(data)\n",
        "\n",
        "f = open('merge.txt', 'r')\n",
        "s = f.read()\n",
        "print(s)\n",
        "f.close()"
      ],
      "metadata": {
        "colab": {
          "base_uri": "https://localhost:8080/"
        },
        "id": "HoyslH_MUtob",
        "outputId": "9b1ca415-7632-4a3f-a626-f131a35b0651"
      },
      "execution_count": 3,
      "outputs": [
        {
          "output_type": "stream",
          "name": "stdout",
          "text": [
            "File can be read only by owner.\n",
            "10\n",
            "20\n",
            "30\n",
            "40\n",
            "50\n",
            "60\n",
            "70\n",
            "80\n",
            "90\n",
            "100\n",
            "1\n",
            "2\n",
            "3\n",
            "4\n",
            "5\n",
            "6\n",
            "7\n",
            "8\n",
            "9\n",
            "10 : 10\n",
            "20\n",
            "30\n",
            "40\n",
            "50\n",
            "60\n",
            "70\n",
            "80\n",
            "90\n",
            "100\n"
          ]
        }
      ]
    },
    {
      "cell_type": "code",
      "source": [
        "# 4.\n",
        "f = open('hello.txt', 'w')\n",
        "f.write('Hello.\\nHi, there.')\n",
        "f.close()\n",
        "f = open('hello.txt', 'r')\n",
        "s = f.read()\n",
        "print('hello.txt 파일 :\\n', s)\n",
        "f.close()\n",
        "f = open('hello.txt', 'a+')\n",
        "f.write('\\nWelcome to Python!')\n",
        "f.close()\n",
        "f = open('hello.txt', 'r')\n",
        "s = f.read()\n",
        "print('hello.txt 파일 :\\n', s)\n",
        "f.close()"
      ],
      "metadata": {
        "colab": {
          "base_uri": "https://localhost:8080/"
        },
        "id": "71dwziT3Uztu",
        "outputId": "8ef9c5e7-1cbc-4202-dcd0-66dbe7cdebc6"
      },
      "execution_count": 4,
      "outputs": [
        {
          "output_type": "stream",
          "name": "stdout",
          "text": [
            "hello.txt 파일 :\n",
            " Hello.\n",
            "Hi, there.\n",
            "hello.txt 파일 :\n",
            " Hello.\n",
            "Hi, there.\n",
            "Welcome to Python!\n"
          ]
        }
      ]
    },
    {
      "cell_type": "code",
      "source": [
        "import random\n",
        "for i in range(0,10):\n",
        "    f = open('randint30.txt', 'w')\n",
        "f.write('%d'%random.randrange(1, 10))\n",
        "f.close()\n",
        "\n",
        "f = open(\"randint30.txt\", 'r')\n",
        "n = 1\n",
        "l = f.readline()\n",
        "while l :\n",
        "    print('{:3d}: {}'.format(n, l), end = '')\n",
        "    l = f.readline()\n",
        "f.close()"
      ],
      "metadata": {
        "colab": {
          "base_uri": "https://localhost:8080/"
        },
        "id": "7t4ZlMipU3sF",
        "outputId": "1afa9599-1ede-4e57-d92e-dcb0a841afbe"
      },
      "execution_count": 15,
      "outputs": [
        {
          "output_type": "stream",
          "name": "stdout",
          "text": [
            "  1: 5"
          ]
        }
      ]
    },
    {
      "cell_type": "code",
      "source": [
        "import random\n",
        "for i in range(0,10):\n",
        "    print(random.randrange(1, 10))\n"
      ],
      "metadata": {
        "colab": {
          "base_uri": "https://localhost:8080/"
        },
        "id": "yCo4kjjJVhKA",
        "outputId": "b284e872-d205-4389-c3bc-0a7c8d4a0869"
      },
      "execution_count": 12,
      "outputs": [
        {
          "output_type": "stream",
          "name": "stdout",
          "text": [
            "8\n",
            "5\n",
            "3\n",
            "6\n",
            "7\n",
            "9\n",
            "6\n",
            "3\n",
            "3\n",
            "3\n"
          ]
        }
      ]
    }
  ]
}